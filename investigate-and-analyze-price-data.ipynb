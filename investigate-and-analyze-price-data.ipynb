{
 "cells": [
  {
   "cell_type": "code",
   "execution_count": 1,
   "id": "8382136d",
   "metadata": {
    "_cell_guid": "b1076dfc-b9ad-4769-8c92-a6c4dae69d19",
    "_uuid": "8f2839f25d086af736a60e9eeb907d3b93b6e0e5",
    "execution": {
     "iopub.execute_input": "2024-03-02T15:55:29.601173Z",
     "iopub.status.busy": "2024-03-02T15:55:29.600727Z",
     "iopub.status.idle": "2024-03-02T15:55:30.708455Z",
     "shell.execute_reply": "2024-03-02T15:55:30.706836Z"
    },
    "papermill": {
     "duration": 1.117742,
     "end_time": "2024-03-02T15:55:30.712052",
     "exception": false,
     "start_time": "2024-03-02T15:55:29.594310",
     "status": "completed"
    },
    "tags": []
   },
   "outputs": [
    {
     "name": "stdout",
     "output_type": "stream",
     "text": [
      "/kaggle/input/natural-gas/Nat_Gas.csv\n"
     ]
    }
   ],
   "source": [
    "# This Python 3 environment comes with many helpful analytics libraries installed\n",
    "# It is defined by the kaggle/python Docker image: https://github.com/kaggle/docker-python\n",
    "# For example, here's several helpful packages to load\n",
    "\n",
    "import numpy as np # linear algebra\n",
    "import pandas as pd # data processing, CSV file I/O (e.g. pd.read_csv)\n",
    "\n",
    "# Input data files are available in the read-only \"../input/\" directory\n",
    "# For example, running this (by clicking run or pressing Shift+Enter) will list all files under the input directory\n",
    "\n",
    "import os\n",
    "for dirname, _, filenames in os.walk('/kaggle/input'):\n",
    "    for filename in filenames:\n",
    "        print(os.path.join(dirname, filename))\n",
    "\n",
    "# You can write up to 20GB to the current directory (/kaggle/working/) that gets preserved as output when you create a version using \"Save & Run All\" \n",
    "# You can also write temporary files to /kaggle/temp/, but they won't be saved outside of the current session"
   ]
  },
  {
   "cell_type": "code",
   "execution_count": 2,
   "id": "c3fd36ae",
   "metadata": {
    "execution": {
     "iopub.execute_input": "2024-03-02T15:55:30.724958Z",
     "iopub.status.busy": "2024-03-02T15:55:30.723294Z",
     "iopub.status.idle": "2024-03-02T15:55:30.759558Z",
     "shell.execute_reply": "2024-03-02T15:55:30.758325Z"
    },
    "papermill": {
     "duration": 0.04577,
     "end_time": "2024-03-02T15:55:30.763279",
     "exception": false,
     "start_time": "2024-03-02T15:55:30.717509",
     "status": "completed"
    },
    "tags": []
   },
   "outputs": [
    {
     "data": {
      "text/html": [
       "<div>\n",
       "<style scoped>\n",
       "    .dataframe tbody tr th:only-of-type {\n",
       "        vertical-align: middle;\n",
       "    }\n",
       "\n",
       "    .dataframe tbody tr th {\n",
       "        vertical-align: top;\n",
       "    }\n",
       "\n",
       "    .dataframe thead th {\n",
       "        text-align: right;\n",
       "    }\n",
       "</style>\n",
       "<table border=\"1\" class=\"dataframe\">\n",
       "  <thead>\n",
       "    <tr style=\"text-align: right;\">\n",
       "      <th></th>\n",
       "      <th>Dates</th>\n",
       "      <th>Prices</th>\n",
       "    </tr>\n",
       "  </thead>\n",
       "  <tbody>\n",
       "    <tr>\n",
       "      <th>0</th>\n",
       "      <td>10/31/20</td>\n",
       "      <td>10.1</td>\n",
       "    </tr>\n",
       "    <tr>\n",
       "      <th>1</th>\n",
       "      <td>11/30/20</td>\n",
       "      <td>10.3</td>\n",
       "    </tr>\n",
       "    <tr>\n",
       "      <th>2</th>\n",
       "      <td>12/31/20</td>\n",
       "      <td>11.0</td>\n",
       "    </tr>\n",
       "    <tr>\n",
       "      <th>3</th>\n",
       "      <td>1/31/21</td>\n",
       "      <td>10.9</td>\n",
       "    </tr>\n",
       "    <tr>\n",
       "      <th>4</th>\n",
       "      <td>2/28/21</td>\n",
       "      <td>10.9</td>\n",
       "    </tr>\n",
       "  </tbody>\n",
       "</table>\n",
       "</div>"
      ],
      "text/plain": [
       "      Dates  Prices\n",
       "0  10/31/20    10.1\n",
       "1  11/30/20    10.3\n",
       "2  12/31/20    11.0\n",
       "3   1/31/21    10.9\n",
       "4   2/28/21    10.9"
      ]
     },
     "execution_count": 2,
     "metadata": {},
     "output_type": "execute_result"
    }
   ],
   "source": [
    "import matplotlib.pyplot as plt\n",
    "from datetime import datetime\n",
    "\n",
    "data = pd.read_csv(\"/kaggle/input/natural-gas/Nat_Gas.csv\")\n",
    "data.head()"
   ]
  },
  {
   "cell_type": "code",
   "execution_count": 3,
   "id": "8537efca",
   "metadata": {
    "execution": {
     "iopub.execute_input": "2024-03-02T15:55:30.773965Z",
     "iopub.status.busy": "2024-03-02T15:55:30.772945Z",
     "iopub.status.idle": "2024-03-02T15:55:30.786009Z",
     "shell.execute_reply": "2024-03-02T15:55:30.784770Z"
    },
    "papermill": {
     "duration": 0.021777,
     "end_time": "2024-03-02T15:55:30.788954",
     "exception": false,
     "start_time": "2024-03-02T15:55:30.767177",
     "status": "completed"
    },
    "tags": []
   },
   "outputs": [
    {
     "data": {
      "text/html": [
       "<div>\n",
       "<style scoped>\n",
       "    .dataframe tbody tr th:only-of-type {\n",
       "        vertical-align: middle;\n",
       "    }\n",
       "\n",
       "    .dataframe tbody tr th {\n",
       "        vertical-align: top;\n",
       "    }\n",
       "\n",
       "    .dataframe thead th {\n",
       "        text-align: right;\n",
       "    }\n",
       "</style>\n",
       "<table border=\"1\" class=\"dataframe\">\n",
       "  <thead>\n",
       "    <tr style=\"text-align: right;\">\n",
       "      <th></th>\n",
       "      <th>Dates</th>\n",
       "      <th>Prices</th>\n",
       "    </tr>\n",
       "  </thead>\n",
       "  <tbody>\n",
       "    <tr>\n",
       "      <th>0</th>\n",
       "      <td>10/31/20</td>\n",
       "      <td>10.1</td>\n",
       "    </tr>\n",
       "    <tr>\n",
       "      <th>1</th>\n",
       "      <td>11/30/20</td>\n",
       "      <td>10.3</td>\n",
       "    </tr>\n",
       "    <tr>\n",
       "      <th>2</th>\n",
       "      <td>12/31/20</td>\n",
       "      <td>11.0</td>\n",
       "    </tr>\n",
       "    <tr>\n",
       "      <th>3</th>\n",
       "      <td>1/31/21</td>\n",
       "      <td>10.9</td>\n",
       "    </tr>\n",
       "    <tr>\n",
       "      <th>4</th>\n",
       "      <td>2/28/21</td>\n",
       "      <td>10.9</td>\n",
       "    </tr>\n",
       "  </tbody>\n",
       "</table>\n",
       "</div>"
      ],
      "text/plain": [
       "      Dates  Prices\n",
       "0  10/31/20    10.1\n",
       "1  11/30/20    10.3\n",
       "2  12/31/20    11.0\n",
       "3   1/31/21    10.9\n",
       "4   2/28/21    10.9"
      ]
     },
     "execution_count": 3,
     "metadata": {},
     "output_type": "execute_result"
    }
   ],
   "source": [
    "#Converting data into Dataframe\n",
    "df = pd.DataFrame(data)\n",
    "df.head()"
   ]
  },
  {
   "cell_type": "code",
   "execution_count": 4,
   "id": "67f35243",
   "metadata": {
    "execution": {
     "iopub.execute_input": "2024-03-02T15:55:30.799778Z",
     "iopub.status.busy": "2024-03-02T15:55:30.798989Z",
     "iopub.status.idle": "2024-03-02T15:55:31.323830Z",
     "shell.execute_reply": "2024-03-02T15:55:31.322685Z"
    },
    "papermill": {
     "duration": 0.533917,
     "end_time": "2024-03-02T15:55:31.327086",
     "exception": false,
     "start_time": "2024-03-02T15:55:30.793169",
     "status": "completed"
    },
    "tags": []
   },
   "outputs": [
    {
     "name": "stderr",
     "output_type": "stream",
     "text": [
      "/tmp/ipykernel_18/659853906.py:2: UserWarning: Could not infer format, so each element will be parsed individually, falling back to `dateutil`. To ensure parsing is consistent and as-expected, please specify a format.\n",
      "  df['Dates'] = pd.to_datetime(df['Dates'])\n"
     ]
    },
    {
     "data": {
      "image/png": "[encoded data removed]",
      "text/plain": [
       "<Figure size 1200x600 with 1 Axes>"
      ]
     },
     "metadata": {},
     "output_type": "display_data"
    }
   ],
   "source": [
    "# Step 2: Convert the 'Dates' column to datetime format\n",
    "df['Dates'] = pd.to_datetime(df['Dates'])\n",
    "\n",
    "# Step 3: Plot the natural gas prices over time\n",
    "plt.figure(figsize=(12, 6))\n",
    "plt.plot(df['Dates'], df['Prices'], marker='o', linestyle='-')\n",
    "plt.title('Natural Gas Prices Over Time')\n",
    "plt.xlabel('Date')\n",
    "plt.ylabel('Price')\n",
    "plt.grid(True)\n",
    "plt.show()"
   ]
  },
  {
   "cell_type": "code",
   "execution_count": 5,
   "id": "f3108300",
   "metadata": {
    "execution": {
     "iopub.execute_input": "2024-03-02T15:55:31.344758Z",
     "iopub.status.busy": "2024-03-02T15:55:31.344156Z",
     "iopub.status.idle": "2024-03-02T15:55:31.353996Z",
     "shell.execute_reply": "2024-03-02T15:55:31.352672Z"
    },
    "papermill": {
     "duration": 0.021171,
     "end_time": "2024-03-02T15:55:31.356531",
     "exception": false,
     "start_time": "2024-03-02T15:55:31.335360",
     "status": "completed"
    },
    "tags": []
   },
   "outputs": [],
   "source": [
    "# Step 4: Define a function to estimate the purchase price of gas at any date in the past and extrapolate it for one year into the future\n",
    "def estimate_price(date):\n",
    "    nearest_date = min(df['Dates'], key=lambda x: abs(x - date))\n",
    "    nearest_price = df.loc[df['Dates'] == nearest_date, 'Prices'].values[0]\n",
    "    \n",
    "    # Extrapolate for one year into the future\n",
    "    future_date = nearest_date + pd.DateOffset(years=1)\n",
    "    future_price = nearest_price + (nearest_price - df.loc[df['Dates'] == nearest_date - pd.DateOffset(years=1), 'Prices'].values[0])\n",
    "    \n",
    "    return nearest_price, future_price"
   ]
  },
  {
   "cell_type": "code",
   "execution_count": 6,
   "id": "8ccd23ac",
   "metadata": {
    "execution": {
     "iopub.execute_input": "2024-03-02T15:55:31.368750Z",
     "iopub.status.busy": "2024-03-02T15:55:31.368192Z",
     "iopub.status.idle": "2024-03-02T15:55:31.389894Z",
     "shell.execute_reply": "2024-03-02T15:55:31.388507Z"
    },
    "papermill": {
     "duration": 0.03216,
     "end_time": "2024-03-02T15:55:31.393813",
     "exception": false,
     "start_time": "2024-03-02T15:55:31.361653",
     "status": "completed"
    },
    "tags": []
   },
   "outputs": [
    {
     "name": "stdout",
     "output_type": "stream",
     "text": [
      "Estimated price of natural gas on 2022-06-15: $10.70\n",
      "Estimated price of natural gas one year later: $11.56\n"
     ]
    }
   ],
   "source": [
    "# Example usage:\n",
    "input_date = pd.to_datetime('2022-06-15')\n",
    "price, future_price = estimate_price(input_date)\n",
    "print(f\"Estimated price of natural gas on {input_date.date()}: ${price:.2f}\")\n",
    "print(f\"Estimated price of natural gas one year later: ${future_price:.2f}\")"
   ]
  }
 ],
 "metadata": {
  "kaggle": {
   "accelerator": "none",
   "dataSources": [
    {
     "datasetId": 4527193,
     "sourceId": 7744740,
     "sourceType": "datasetVersion"
    }
   ],
   "dockerImageVersionId": 30664,
   "isGpuEnabled": false,
   "isInternetEnabled": true,
   "language": "python",
   "sourceType": "notebook"
  },
  "kernelspec": {
   "display_name": "Python 3",
   "language": "python",
   "name": "python3"
  },
  "language_info": {
   "codemirror_mode": {
    "name": "ipython",
    "version": 3
   },
   "file_extension": ".py",
   "mimetype": "text/x-python",
   "name": "python",
   "nbconvert_exporter": "python",
   "pygments_lexer": "ipython3",
   "version": "3.10.13"
  },
  "papermill": {
   "default_parameters": {},
   "duration": 5.815654,
   "end_time": "2024-03-02T15:55:32.022263",
   "environment_variables": {},
   "exception": null,
   "input_path": "__notebook__.ipynb",
   "output_path": "__notebook__.ipynb",
   "parameters": {},
   "start_time": "2024-03-02T15:55:26.206609",
   "version": "2.5.0"
  }
 },
 "nbformat": 4,
 "nbformat_minor": 5
}
