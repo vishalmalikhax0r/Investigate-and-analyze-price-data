{
 "cells": [
  {
   "cell_type": "code",
   "execution_count": 1,
   "id": "52994e05",
   "metadata": {
    "_cell_guid": "b1076dfc-b9ad-4769-8c92-a6c4dae69d19",
    "_uuid": "8f2839f25d086af736a60e9eeb907d3b93b6e0e5",
    "execution": {
     "iopub.execute_input": "2024-03-02T20:16:27.389842Z",
     "iopub.status.busy": "2024-03-02T20:16:27.389413Z",
     "iopub.status.idle": "2024-03-02T20:16:28.462043Z",
     "shell.execute_reply": "2024-03-02T20:16:28.460699Z"
    },
    "papermill": {
     "duration": 1.081269,
     "end_time": "2024-03-02T20:16:28.465535",
     "exception": false,
     "start_time": "2024-03-02T20:16:27.384266",
     "status": "completed"
    },
    "tags": []
   },
   "outputs": [
    {
     "name": "stdout",
     "output_type": "stream",
     "text": [
      "/kaggle/input/natural-gas-csv/Nat_Gas.csv\n"
     ]
    }
   ],
   "source": [
    "# This Python 3 environment comes with many helpful analytics libraries installed\n",
    "# It is defined by the kaggle/python Docker image: https://github.com/kaggle/docker-python\n",
    "# For example, here's several helpful packages to load\n",
    "\n",
    "import numpy as np # linear algebra\n",
    "import pandas as pd # data processing, CSV file I/O (e.g. pd.read_csv)\n",
    "\n",
    "# Input data files are available in the read-only \"../input/\" directory\n",
    "# For example, running this (by clicking run or pressing Shift+Enter) will list all files under the input directory\n",
    "\n",
    "import os\n",
    "for dirname, _, filenames in os.walk('/kaggle/input'):\n",
    "    for filename in filenames:\n",
    "        print(os.path.join(dirname, filename))\n",
    "\n",
    "# You can write up to 20GB to the current directory (/kaggle/working/) that gets preserved as output when you create a version using \"Save & Run All\" \n",
    "# You can also write temporary files to /kaggle/temp/, but they won't be saved outside of the current session"
   ]
  },
  {
   "cell_type": "code",
   "execution_count": 2,
   "id": "965620f7",
   "metadata": {
    "execution": {
     "iopub.execute_input": "2024-03-02T20:16:28.476944Z",
     "iopub.status.busy": "2024-03-02T20:16:28.476104Z",
     "iopub.status.idle": "2024-03-02T20:16:28.518861Z",
     "shell.execute_reply": "2024-03-02T20:16:28.517331Z"
    },
    "papermill": {
     "duration": 0.053138,
     "end_time": "2024-03-02T20:16:28.523482",
     "exception": false,
     "start_time": "2024-03-02T20:16:28.470344",
     "status": "completed"
    },
    "tags": []
   },
   "outputs": [
    {
     "name": "stderr",
     "output_type": "stream",
     "text": [
      "/tmp/ipykernel_18/494236347.py:4: UserWarning: Could not infer format, so each element will be parsed individually, falling back to `dateutil`. To ensure parsing is consistent and as-expected, please specify a format.\n",
      "  df = pd.read_csv('/kaggle/input/natural-gas-csv/Nat_Gas.csv', parse_dates=['Dates'])\n"
     ]
    },
    {
     "data": {
      "text/html": [
       "<div>\n",
       "<style scoped>\n",
       "    .dataframe tbody tr th:only-of-type {\n",
       "        vertical-align: middle;\n",
       "    }\n",
       "\n",
       "    .dataframe tbody tr th {\n",
       "        vertical-align: top;\n",
       "    }\n",
       "\n",
       "    .dataframe thead th {\n",
       "        text-align: right;\n",
       "    }\n",
       "</style>\n",
       "<table border=\"1\" class=\"dataframe\">\n",
       "  <thead>\n",
       "    <tr style=\"text-align: right;\">\n",
       "      <th></th>\n",
       "      <th>Dates</th>\n",
       "      <th>Prices</th>\n",
       "    </tr>\n",
       "  </thead>\n",
       "  <tbody>\n",
       "    <tr>\n",
       "      <th>0</th>\n",
       "      <td>2020-10-31</td>\n",
       "      <td>10.1</td>\n",
       "    </tr>\n",
       "    <tr>\n",
       "      <th>1</th>\n",
       "      <td>2020-11-30</td>\n",
       "      <td>10.3</td>\n",
       "    </tr>\n",
       "    <tr>\n",
       "      <th>2</th>\n",
       "      <td>2020-12-31</td>\n",
       "      <td>11.0</td>\n",
       "    </tr>\n",
       "    <tr>\n",
       "      <th>3</th>\n",
       "      <td>2021-01-31</td>\n",
       "      <td>10.9</td>\n",
       "    </tr>\n",
       "    <tr>\n",
       "      <th>4</th>\n",
       "      <td>2021-02-28</td>\n",
       "      <td>10.9</td>\n",
       "    </tr>\n",
       "  </tbody>\n",
       "</table>\n",
       "</div>"
      ],
      "text/plain": [
       "       Dates  Prices\n",
       "0 2020-10-31    10.1\n",
       "1 2020-11-30    10.3\n",
       "2 2020-12-31    11.0\n",
       "3 2021-01-31    10.9\n",
       "4 2021-02-28    10.9"
      ]
     },
     "execution_count": 2,
     "metadata": {},
     "output_type": "execute_result"
    }
   ],
   "source": [
    "import pandas as pd\n",
    "\n",
    "# Load the dataset\n",
    "df = pd.read_csv('/kaggle/input/natural-gas-csv/Nat_Gas.csv', parse_dates=['Dates'])\n",
    "df.head()"
   ]
  },
  {
   "cell_type": "code",
   "execution_count": 3,
   "id": "87d3d240",
   "metadata": {
    "execution": {
     "iopub.execute_input": "2024-03-02T20:16:28.532937Z",
     "iopub.status.busy": "2024-03-02T20:16:28.532481Z",
     "iopub.status.idle": "2024-03-02T20:16:28.548237Z",
     "shell.execute_reply": "2024-03-02T20:16:28.546931Z"
    },
    "papermill": {
     "duration": 0.024086,
     "end_time": "2024-03-02T20:16:28.551191",
     "exception": false,
     "start_time": "2024-03-02T20:16:28.527105",
     "status": "completed"
    },
    "tags": []
   },
   "outputs": [],
   "source": [
    "from datetime import date\n",
    "import math\n",
    "\n",
    "def price_contract(in_dates, in_prices, out_dates, out_prices, rate, storage_cost_rate, total_vol, injection_withdrawal_cost_rate):\n",
    "    volume = 0\n",
    "    buy_cost = 0\n",
    "    cash_in = 0\n",
    "    last_date = min(min(in_dates), min(out_dates))\n",
    "    \n",
    "    # Ensure dates are in sequence\n",
    "    all_dates = sorted(set(in_dates + out_dates))\n",
    "    \n",
    "    for i in range(len(all_dates)):\n",
    "        # processing code for each date\n",
    "        start_date = all_dates[i]\n",
    "\n",
    "        if start_date in in_dates:\n",
    "            # Inject on these dates and sum up cash flows\n",
    "            if volume <= total_vol - rate:\n",
    "                volume += rate\n",
    "\n",
    "                # Cost to purchase gas\n",
    "                buy_cost += rate * in_prices[in_dates.index(start_date)]\n",
    "                # Injection cost\n",
    "                injection_cost = rate * injection_withdrawal_cost_rate\n",
    "                buy_cost += injection_cost\n",
    "                print('Injected gas on %s at a price of %s'%(start_date, in_prices[in_dates.index(start_date)]))\n",
    "\n",
    "            else:\n",
    "                # We do not want to inject when rate is greater than total volume minus volume\n",
    "                print('Injection is not possible on date %s as there is insufficient space in the storage facility'%start_date)\n",
    "        elif start_date in out_dates:\n",
    "            #Withdraw on these dates and sum cash flows\n",
    "            if volume >= rate:\n",
    "                volume -= rate\n",
    "                cash_in += rate * out_prices[out_dates.index(start_date)]\n",
    "                # Withdrawal cost\n",
    "                withdrawal_cost = rate * injection_withdrawal_cost_rate\n",
    "                cash_in -= withdrawal_cost\n",
    "                print('Extracted gas on %s at a price of %s'%(start_date, out_prices[out_dates.index(start_date)]))\n",
    "            else:\n",
    "                # we cannot withdraw more gas than is actually stored\n",
    "                print('Extraction is not possible on date %s as there is insufficient volume of gas stored'%start_date)\n",
    "                \n",
    "    store_cost = math.ceil((max(out_dates) - min(in_dates)).days // 30) * storage_cost_rate\n",
    "    return cash_in - store_cost - buy_cost\n",
    "\n",
    "## Explaining the Methodology Adopted for this Task ##\n",
    "\n",
    "# The given Python code implements a function `price_contract` that calculates the profit or loss obtained by \n",
    "# undertaking trades on given dates for a contract involving the buying, storing, and selling of natural gas the\n",
    "# storage cost of the gas, the injection/withdrawal. The value of the contract is the profit or loss obtained by\n",
    "# undertaking the trades on given dates. Play around with the parameters and you'll be able to see this. \n",
    "# In the end the intent for this function returns the value of the contract.\n",
    "#The function takes in eight inputs:\n",
    "#- `in_dates`: A list of dates on which the gas is being injected into the storage facility.\n",
    "#- `in_prices`: A list of prices of gas on each of the injection dates.\n",
    "#- `out_dates`: A list of dates on which the gas is being withdrawn from the storage facility.\n",
    "#- `out_prices`: A list of prices of gas on each of the withdrawal dates.\n",
    "#- `rate`: The rate of gas in cubic feet per day.\n",
    "#- `storage_cost_rate`: A fixed monthly fee to store the gas\n",
    "#- `total_vol`: The total volume of gas in cubic feet that can be stored.\n",
    "#- `injection_withdrawal_cost_rate`: The injection/withdrawal cost of gas in dollars per cubic foot.\n",
    "\n",
    "# The function first ensures that all the dates are in sequence and sorted in ascending order. Then, it iterates\n",
    "#over all the dates and calculates the cash flows on each date. If the current date is an injection date, it\n",
    "#injects gas into the storage facility and calculates the cost to store the gas, the cost to purchase the gas,\n",
    "#and the injection cost. If the current date is a withdrawal date, it withdraws gas from the storage facility and\n",
    "#calculates the cash inflow from selling the gas, the cost to store the remaining gas, and the withdrawal cost.\n",
    "\n",
    "# Finally, the function returns the net profit or loss by subtracting the storage cost and the cost to purchase \n",
    "#the gas from the cash inflow from selling the gas.\n",
    "\n",
    "# The example usage of the `price_contract` function calculates the profit or loss for a contract that involves\n",
    "#injecting gas on four different dates and withdrawing gas on four different dates, each with a different price. \n",
    "#The other inputs such as the rate of gas, the storage cost rate, the total volume, and the injection/withdrawal \n",
    "#cost rate are also provided. The output is printed to the console using an f-string.\n"
   ]
  },
  {
   "cell_type": "code",
   "execution_count": 4,
   "id": "d92ff416",
   "metadata": {
    "execution": {
     "iopub.execute_input": "2024-03-02T20:16:28.560700Z",
     "iopub.status.busy": "2024-03-02T20:16:28.560254Z",
     "iopub.status.idle": "2024-03-02T20:16:28.569947Z",
     "shell.execute_reply": "2024-03-02T20:16:28.568707Z"
    },
    "papermill": {
     "duration": 0.018099,
     "end_time": "2024-03-02T20:16:28.573124",
     "exception": false,
     "start_time": "2024-03-02T20:16:28.555025",
     "status": "completed"
    },
    "tags": []
   },
   "outputs": [
    {
     "name": "stdout",
     "output_type": "stream",
     "text": [
      "Injected gas on 2022-01-01 at a price of 20\n",
      "Extracted gas on 2022-01-27 at a price of 23\n",
      "Injected gas on 2022-02-01 at a price of 21\n",
      "Extracted gas on 2022-02-15 at a price of 19\n",
      "Injected gas on 2022-02-21 at a price of 20.5\n",
      "Extracted gas on 2022-03-20 at a price of 21\n",
      "Injected gas on 2022-04-01 at a price of 22\n",
      "Extracted gas on 2022-06-01 at a price of 25\n",
      "\n",
      "The value of the contract is: $399600.0\n"
     ]
    }
   ],
   "source": [
    "# Example usage of price_contract()\n",
    "in_dates = [date(2022, 1, 1), date(2022, 2, 1), date(2022, 2, 21), date(2022, 4, 1)] #injection dates\n",
    "in_prices = [20, 21, 20.5, 22]#prices on the injection days\n",
    "out_dates = [date(2022, 1, 27), date(2022, 2, 15), date(2022, 3, 20), date(2022, 6, 1)] # extraction dates\n",
    "out_prices = [23, 19, 21, 25] # prices on the extraction days\n",
    "rate = 100000  # rate of gas in cubic feet per day\n",
    "storage_cost_rate = 10000  # total volume in cubic feet\n",
    "injection_withdrawal_cost_rate = 0.0005  # $/cf\n",
    "max_storage_volume = 500000 # maximum storage capacity of the storage facility\n",
    "result = price_contract(in_dates, in_prices, out_dates, out_prices, rate, storage_cost_rate, max_storage_volume, injection_withdrawal_cost_rate)\n",
    "print()\n",
    "print(f\"The value of the contract is: ${result}\")"
   ]
  }
 ],
 "metadata": {
  "kaggle": {
   "accelerator": "none",
   "dataSources": [
    {
     "datasetId": 4528200,
     "sourceId": 7746133,
     "sourceType": "datasetVersion"
    }
   ],
   "dockerImageVersionId": 30664,
   "isGpuEnabled": false,
   "isInternetEnabled": true,
   "language": "python",
   "sourceType": "notebook"
  },
  "kernelspec": {
   "display_name": "Python 3",
   "language": "python",
   "name": "python3"
  },
  "language_info": {
   "codemirror_mode": {
    "name": "ipython",
    "version": 3
   },
   "file_extension": ".py",
   "mimetype": "text/x-python",
   "name": "python",
   "nbconvert_exporter": "python",
   "pygments_lexer": "ipython3",
   "version": "3.10.13"
  },
  "papermill": {
   "default_parameters": {},
   "duration": 7.197964,
   "end_time": "2024-03-02T20:16:31.344227",
   "environment_variables": {},
   "exception": null,
   "input_path": "__notebook__.ipynb",
   "output_path": "__notebook__.ipynb",
   "parameters": {},
   "start_time": "2024-03-02T20:16:24.146263",
   "version": "2.5.0"
  }
 },
 "nbformat": 4,
 "nbformat_minor": 5
}
