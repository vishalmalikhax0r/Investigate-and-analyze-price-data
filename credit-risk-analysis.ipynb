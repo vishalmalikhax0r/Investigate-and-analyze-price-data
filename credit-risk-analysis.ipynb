{
 "cells": [
  {
   "cell_type": "code",
   "execution_count": 1,
   "id": "2b406e3d",
   "metadata": {
    "_cell_guid": "b1076dfc-b9ad-4769-8c92-a6c4dae69d19",
    "_uuid": "8f2839f25d086af736a60e9eeb907d3b93b6e0e5",
    "execution": {
     "iopub.execute_input": "2024-03-02T20:35:22.565577Z",
     "iopub.status.busy": "2024-03-02T20:35:22.565010Z",
     "iopub.status.idle": "2024-03-02T20:35:23.599478Z",
     "shell.execute_reply": "2024-03-02T20:35:23.598332Z"
    },
    "papermill": {
     "duration": 1.043623,
     "end_time": "2024-03-02T20:35:23.602268",
     "exception": false,
     "start_time": "2024-03-02T20:35:22.558645",
     "status": "completed"
    },
    "tags": []
   },
   "outputs": [
    {
     "name": "stdout",
     "output_type": "stream",
     "text": [
      "/kaggle/input/customersloandata-csv/Task 3 and 4_Loan_Data.csv\n"
     ]
    }
   ],
   "source": [
    "# This Python 3 environment comes with many helpful analytics libraries installed\n",
    "# It is defined by the kaggle/python Docker image: https://github.com/kaggle/docker-python\n",
    "# For example, here's several helpful packages to load\n",
    "\n",
    "import numpy as np # linear algebra\n",
    "import pandas as pd # data processing, CSV file I/O (e.g. pd.read_csv)\n",
    "\n",
    "# Input data files are available in the read-only \"../input/\" directory\n",
    "# For example, running this (by clicking run or pressing Shift+Enter) will list all files under the input directory\n",
    "\n",
    "import os\n",
    "for dirname, _, filenames in os.walk('/kaggle/input'):\n",
    "    for filename in filenames:\n",
    "        print(os.path.join(dirname, filename))\n",
    "\n",
    "# You can write up to 20GB to the current directory (/kaggle/working/) that gets preserved as output when you create a version using \"Save & Run All\" \n",
    "# You can also write temporary files to /kaggle/temp/, but they won't be saved outside of the current session"
   ]
  },
  {
   "cell_type": "code",
   "execution_count": 2,
   "id": "0b2fb903",
   "metadata": {
    "execution": {
     "iopub.execute_input": "2024-03-02T20:35:23.611654Z",
     "iopub.status.busy": "2024-03-02T20:35:23.611135Z",
     "iopub.status.idle": "2024-03-02T20:35:25.726103Z",
     "shell.execute_reply": "2024-03-02T20:35:25.724925Z"
    },
    "papermill": {
     "duration": 2.122404,
     "end_time": "2024-03-02T20:35:25.728676",
     "exception": false,
     "start_time": "2024-03-02T20:35:23.606272",
     "status": "completed"
    },
    "tags": []
   },
   "outputs": [
    {
     "data": {
      "text/html": [
       "<div>\n",
       "<style scoped>\n",
       "    .dataframe tbody tr th:only-of-type {\n",
       "        vertical-align: middle;\n",
       "    }\n",
       "\n",
       "    .dataframe tbody tr th {\n",
       "        vertical-align: top;\n",
       "    }\n",
       "\n",
       "    .dataframe thead th {\n",
       "        text-align: right;\n",
       "    }\n",
       "</style>\n",
       "<table border=\"1\" class=\"dataframe\">\n",
       "  <thead>\n",
       "    <tr style=\"text-align: right;\">\n",
       "      <th></th>\n",
       "      <th>customer_id</th>\n",
       "      <th>credit_lines_outstanding</th>\n",
       "      <th>loan_amt_outstanding</th>\n",
       "      <th>total_debt_outstanding</th>\n",
       "      <th>income</th>\n",
       "      <th>years_employed</th>\n",
       "      <th>fico_score</th>\n",
       "      <th>default</th>\n",
       "    </tr>\n",
       "  </thead>\n",
       "  <tbody>\n",
       "    <tr>\n",
       "      <th>0</th>\n",
       "      <td>8153374</td>\n",
       "      <td>0</td>\n",
       "      <td>5221.545193</td>\n",
       "      <td>3915.471226</td>\n",
       "      <td>78039.38546</td>\n",
       "      <td>5</td>\n",
       "      <td>605</td>\n",
       "      <td>0</td>\n",
       "    </tr>\n",
       "    <tr>\n",
       "      <th>1</th>\n",
       "      <td>7442532</td>\n",
       "      <td>5</td>\n",
       "      <td>1958.928726</td>\n",
       "      <td>8228.752520</td>\n",
       "      <td>26648.43525</td>\n",
       "      <td>2</td>\n",
       "      <td>572</td>\n",
       "      <td>1</td>\n",
       "    </tr>\n",
       "    <tr>\n",
       "      <th>2</th>\n",
       "      <td>2256073</td>\n",
       "      <td>0</td>\n",
       "      <td>3363.009259</td>\n",
       "      <td>2027.830850</td>\n",
       "      <td>65866.71246</td>\n",
       "      <td>4</td>\n",
       "      <td>602</td>\n",
       "      <td>0</td>\n",
       "    </tr>\n",
       "    <tr>\n",
       "      <th>3</th>\n",
       "      <td>4885975</td>\n",
       "      <td>0</td>\n",
       "      <td>4766.648001</td>\n",
       "      <td>2501.730397</td>\n",
       "      <td>74356.88347</td>\n",
       "      <td>5</td>\n",
       "      <td>612</td>\n",
       "      <td>0</td>\n",
       "    </tr>\n",
       "    <tr>\n",
       "      <th>4</th>\n",
       "      <td>4700614</td>\n",
       "      <td>1</td>\n",
       "      <td>1345.827718</td>\n",
       "      <td>1768.826187</td>\n",
       "      <td>23448.32631</td>\n",
       "      <td>6</td>\n",
       "      <td>631</td>\n",
       "      <td>0</td>\n",
       "    </tr>\n",
       "  </tbody>\n",
       "</table>\n",
       "</div>"
      ],
      "text/plain": [
       "   customer_id  credit_lines_outstanding  loan_amt_outstanding  \\\n",
       "0      8153374                         0           5221.545193   \n",
       "1      7442532                         5           1958.928726   \n",
       "2      2256073                         0           3363.009259   \n",
       "3      4885975                         0           4766.648001   \n",
       "4      4700614                         1           1345.827718   \n",
       "\n",
       "   total_debt_outstanding       income  years_employed  fico_score  default  \n",
       "0             3915.471226  78039.38546               5         605        0  \n",
       "1             8228.752520  26648.43525               2         572        1  \n",
       "2             2027.830850  65866.71246               4         602        0  \n",
       "3             2501.730397  74356.88347               5         612        0  \n",
       "4             1768.826187  23448.32631               6         631        0  "
      ]
     },
     "execution_count": 2,
     "metadata": {},
     "output_type": "execute_result"
    }
   ],
   "source": [
    "import pandas as pd\n",
    "from sklearn.model_selection import train_test_split\n",
    "from sklearn.ensemble import RandomForestClassifier\n",
    "from sklearn.metrics import classification_report\n",
    "\n",
    "# Load the dataset\n",
    "data = pd.read_csv('/kaggle/input/customersloandata-csv/Task 3 and 4_Loan_Data.csv')\n",
    "data.head()"
   ]
  },
  {
   "cell_type": "markdown",
   "id": "40af70b1",
   "metadata": {
    "papermill": {
     "duration": 0.003862,
     "end_time": "2024-03-02T20:35:25.736701",
     "exception": false,
     "start_time": "2024-03-02T20:35:25.732839",
     "status": "completed"
    },
    "tags": []
   },
   "source": [
    "## Using Random Forest"
   ]
  },
  {
   "cell_type": "code",
   "execution_count": 3,
   "id": "50181887",
   "metadata": {
    "execution": {
     "iopub.execute_input": "2024-03-02T20:35:25.747040Z",
     "iopub.status.busy": "2024-03-02T20:35:25.746146Z",
     "iopub.status.idle": "2024-03-02T20:35:26.675227Z",
     "shell.execute_reply": "2024-03-02T20:35:26.673995Z"
    },
    "papermill": {
     "duration": 0.937207,
     "end_time": "2024-03-02T20:35:26.677922",
     "exception": false,
     "start_time": "2024-03-02T20:35:25.740715",
     "status": "completed"
    },
    "tags": []
   },
   "outputs": [
    {
     "name": "stdout",
     "output_type": "stream",
     "text": [
      "              precision    recall  f1-score   support\n",
      "\n",
      "           0       1.00      1.00      1.00      1652\n",
      "           1       0.99      0.98      0.98       348\n",
      "\n",
      "    accuracy                           0.99      2000\n",
      "   macro avg       0.99      0.99      0.99      2000\n",
      "weighted avg       0.99      0.99      0.99      2000\n",
      "\n"
     ]
    }
   ],
   "source": [
    "# Define features and target variable\n",
    "X = data.drop(columns=['customer_id', 'default'])\n",
    "y = data['default']\n",
    "\n",
    "# Split the data into training and testing sets\n",
    "X_train, X_test, y_train, y_test = train_test_split(X, y, test_size=0.2, random_state=42)\n",
    "\n",
    "# Initialize and train the Random Forest classifier\n",
    "clf = RandomForestClassifier(n_estimators=100, random_state=42)\n",
    "clf.fit(X_train, y_train)\n",
    "\n",
    "# Make predictions on the testing set\n",
    "y_pred = clf.predict(X_test)\n",
    "\n",
    "# Evaluate the model\n",
    "print(classification_report(y_test, y_pred))\n",
    "\n",
    "# Function to predict the probability of default for a new loan\n",
    "def predict_default_probability(loan_details):\n",
    "    # loan_details is a dictionary containing loan details\n",
    "    # Convert loan details to DataFrame with a single row\n",
    "    loan_df = pd.DataFrame([loan_details])\n",
    "    # Predict probability of default for the loan\n",
    "    probability = clf.predict_proba(loan_df)[:, 1]\n",
    "    return probability[0]\n"
   ]
  },
  {
   "cell_type": "code",
   "execution_count": 4,
   "id": "7da09282",
   "metadata": {
    "execution": {
     "iopub.execute_input": "2024-03-02T20:35:26.688111Z",
     "iopub.status.busy": "2024-03-02T20:35:26.687688Z",
     "iopub.status.idle": "2024-03-02T20:35:26.706025Z",
     "shell.execute_reply": "2024-03-02T20:35:26.704938Z"
    },
    "papermill": {
     "duration": 0.027583,
     "end_time": "2024-03-02T20:35:26.709714",
     "exception": false,
     "start_time": "2024-03-02T20:35:26.682131",
     "status": "completed"
    },
    "tags": []
   },
   "outputs": [
    {
     "name": "stdout",
     "output_type": "stream",
     "text": [
      "Probability of default: 0.0\n"
     ]
    }
   ],
   "source": [
    "# Example usage of the predict_default_probability function\n",
    "loan_details = {\n",
    "    'credit_lines_outstanding': 0,\n",
    "    'loan_amt_outstanding': 5221.545193,\n",
    "    'total_debt_outstanding': 3915.471226,\n",
    "    'income': 78039.38546,\n",
    "    'years_employed': 5,\n",
    "    'fico_score': 605\n",
    "}\n",
    "\n",
    "probability_of_default = predict_default_probability(loan_details)\n",
    "print(f\"Probability of default: {probability_of_default}\")"
   ]
  },
  {
   "cell_type": "markdown",
   "id": "9b667c33",
   "metadata": {
    "papermill": {
     "duration": 0.003994,
     "end_time": "2024-03-02T20:35:26.718188",
     "exception": false,
     "start_time": "2024-03-02T20:35:26.714194",
     "status": "completed"
    },
    "tags": []
   },
   "source": [
    "## Using Logistic Regression"
   ]
  },
  {
   "cell_type": "code",
   "execution_count": 5,
   "id": "6cba07cd",
   "metadata": {
    "execution": {
     "iopub.execute_input": "2024-03-02T20:35:26.728819Z",
     "iopub.status.busy": "2024-03-02T20:35:26.728390Z",
     "iopub.status.idle": "2024-03-02T20:35:26.805233Z",
     "shell.execute_reply": "2024-03-02T20:35:26.803095Z"
    },
    "papermill": {
     "duration": 0.087997,
     "end_time": "2024-03-02T20:35:26.810541",
     "exception": false,
     "start_time": "2024-03-02T20:35:26.722544",
     "status": "completed"
    },
    "tags": []
   },
   "outputs": [
    {
     "name": "stdout",
     "output_type": "stream",
     "text": [
      "[[ 8.18520373  0.54490854  0.01994244 -2.77630853 -0.02418391]] [-0.09162643]\n",
      "0.0037\n",
      "0.9925106069101026\n"
     ]
    }
   ],
   "source": [
    "from sklearn.linear_model import LogisticRegression\n",
    "from sklearn import metrics\n",
    "import numpy as np\n",
    "import pandas as pd\n",
    "\n",
    "\n",
    "# Define the variable features\n",
    "features = ['credit_lines_outstanding', 'debt_to_income', 'payment_to_income', 'years_employed', 'fico_score']\n",
    "\n",
    "# Calculate the payment_to_income ratio\n",
    "data['payment_to_income'] = data['loan_amt_outstanding'] / data['income']\n",
    "    \n",
    "# Calculate the debt_to_income ratio\n",
    "data['debt_to_income'] = data['total_debt_outstanding'] / data['income']\n",
    "\n",
    "clf = LogisticRegression(random_state=0, solver='liblinear', tol=1e-5, max_iter=10000).fit(data[features], data['default'])\n",
    "print(clf.coef_, clf.intercept_)\n",
    "\n",
    "# Use the following code to check yourself\n",
    "y_pred = clf.predict(data[features])\n",
    "\n",
    "fpr, tpr, thresholds = metrics.roc_curve(data['default'], y_pred)\n",
    "print((1.0*(abs(data['default']-y_pred)).sum()) / len(data))\n",
    "print(metrics.auc(fpr, tpr))\n"
   ]
  }
 ],
 "metadata": {
  "kaggle": {
   "accelerator": "none",
   "dataSources": [
    {
     "datasetId": 4528232,
     "sourceId": 7746183,
     "sourceType": "datasetVersion"
    }
   ],
   "dockerImageVersionId": 30664,
   "isGpuEnabled": false,
   "isInternetEnabled": true,
   "language": "python",
   "sourceType": "notebook"
  },
  "kernelspec": {
   "display_name": "Python 3",
   "language": "python",
   "name": "python3"
  },
  "language_info": {
   "codemirror_mode": {
    "name": "ipython",
    "version": 3
   },
   "file_extension": ".py",
   "mimetype": "text/x-python",
   "name": "python",
   "nbconvert_exporter": "python",
   "pygments_lexer": "ipython3",
   "version": "3.10.13"
  },
  "papermill": {
   "default_parameters": {},
   "duration": 8.351057,
   "end_time": "2024-03-02T20:35:27.546050",
   "environment_variables": {},
   "exception": null,
   "input_path": "__notebook__.ipynb",
   "output_path": "__notebook__.ipynb",
   "parameters": {},
   "start_time": "2024-03-02T20:35:19.194993",
   "version": "2.5.0"
  }
 },
 "nbformat": 4,
 "nbformat_minor": 5
}
